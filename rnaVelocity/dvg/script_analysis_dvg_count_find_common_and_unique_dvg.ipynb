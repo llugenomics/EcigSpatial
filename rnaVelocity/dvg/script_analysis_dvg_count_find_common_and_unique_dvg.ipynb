{
 "cells": [
  {
   "cell_type": "code",
   "execution_count": 1,
   "id": "d3814f2f-874b-44d5-8a9e-39311af89877",
   "metadata": {},
   "outputs": [],
   "source": [
    "import csv\n",
    "import math \n",
    "import pandas as pd\n",
    "import numpy\n",
    "\n",
    "from typing import List\n",
    "from typing_extensions import TypedDict\n",
    "\n",
    "\n",
    "class DVStat(TypedDict):\n",
    "    statistic: float\n",
    "    pvalue: float\n",
    "    adj_pvalue: float\n",
    "    ratio: float\n",
    "    control_size: int\n",
    "    ecig_size: int\n",
    "    region: str\n",
    "       \n",
    "\n",
    "class DVgene(TypedDict):\n",
    "    idx: int\n",
    "    name: str\n",
    "    dv_stats: List[DVStat]\n",
    "    "
   ]
  },
  {
   "cell_type": "code",
   "execution_count": 10,
   "id": "38d8ed2e-e450-4711-8c42-6eba6ff6f559",
   "metadata": {},
   "outputs": [],
   "source": [
    "def find_unique_common_dvgenes(csv_path: str, number_of_regions: int = 10):   \n",
    "    df = pd.read_csv(\n",
    "        csv_path,\n",
    "        delimiter=\",\",\n",
    "        encoding=\"utf-8\",\n",
    "        index_col=None\n",
    "    )\n",
    "    \n",
    "    gene_to_stats = {}\n",
    "    for index, row in df.iterrows():\n",
    "        dv_stat: DVStat = {\n",
    "            'statistic': row['t_statistic'],\n",
    "            'pvalue': row['p_value'],\n",
    "            'adj_pvalue': row['adjusted_p_value'],\n",
    "            'control_size': row['size_control'],\n",
    "            'ecig_size': row['size_treated'],\n",
    "            'ratio': row['difference'],\n",
    "            'region': row['region']            \n",
    "        }\n",
    "        if row['gene'] not in gene_to_stats.keys():\n",
    "            dv_gene: DVGene = {\n",
    "                'idx': index,\n",
    "                'name': row['gene'],\n",
    "                'dv_stats': [dv_stat]\n",
    "            }\n",
    "            gene_to_stats[row['gene']] = dv_gene\n",
    "        else:\n",
    "            gene_to_stats[row['gene']]['dv_stats'].append(dv_stat)\n",
    "            \n",
    "    unique_dv_genes = [dv_gene for dv_gene in list(gene_to_stats.keys()) if len(gene_to_stats[dv_gene]['dv_stats']) == 1]\n",
    "    common_dv_genes = [dv_gene for dv_gene in list(gene_to_stats.keys()) if len(gene_to_stats[dv_gene]['dv_stats']) == number_of_regions]\n",
    "    return gene_to_stats, unique_dv_genes, common_dv_genes\n",
    "\n",
    "\n",
    "def group_dvg_genes_per_region(dvg_db, unique_dvg, common_dvg):\n",
    "    unique_region_to_genes = {}\n",
    "    for dv_gene in unique_dvg:\n",
    "        region = dvg_db[dv_gene]['dv_stats'][0]['region']\n",
    "        if region in unique_region_to_genes.keys():\n",
    "            unique_region_to_genes[region].append(dv_gene)\n",
    "        else:\n",
    "            unique_region_to_genes[region] = [dv_gene]\n",
    "    \n",
    "    for region, genes in unique_region_to_genes.items():\n",
    "        print(f\"======== {len(genes)} unique DV Genes for {region} ======== \")\n",
    "        #for name in genes:\n",
    "            #print(name)\n",
    "\n",
    "    print(f\"======== {len(common_dvg)} common DVGenes ========\")\n",
    "    #for name in common_dvg:\n",
    "        #print(name)\n",
    "\n",
    "\n",
    "#dvg_db, unique_dvg, common_dvg = find_unique_common_dvgenes(\"./output/plim10eminus6/mp_dva_ext_heatmap_data.csv\", 10)\n",
    "#group_dvg_genes_per_region(dvg_db, unique_dvg, common_dvg)\n"
   ]
  },
  {
   "cell_type": "code",
   "execution_count": 11,
   "id": "797df02c-d034-4e2e-aa71-c03c38df93ba",
   "metadata": {},
   "outputs": [
    {
     "name": "stdout",
     "output_type": "stream",
     "text": [
      "fa\n",
      "======== 447 unique DV Genes for Septal ======== \n",
      "======== 216 unique DV Genes for ACC ======== \n",
      "======== 289 unique DV Genes for NAc ======== \n",
      "======== 373 unique DV Genes for Layer5/6 ======== \n",
      "======== 222 unique DV Genes for AIC ======== \n",
      "======== 408 unique DV Genes for Layer2/3 ======== \n",
      "======== 596 unique DV Genes for CPu ======== \n",
      "======== 93 unique DV Genes for Pir ======== \n",
      "======== 353 unique DV Genes for cc ======== \n",
      "======== 216 unique DV Genes for Layer4 ======== \n",
      "======== 130 common DVGenes ========\n",
      "ma\n",
      "======== 478 unique DV Genes for Septal ======== \n",
      "======== 253 unique DV Genes for ACC ======== \n",
      "======== 335 unique DV Genes for NAc ======== \n",
      "======== 369 unique DV Genes for Layer5/6 ======== \n",
      "======== 200 unique DV Genes for AIC ======== \n",
      "======== 252 unique DV Genes for Layer4 ======== \n",
      "======== 582 unique DV Genes for CPu ======== \n",
      "======== 297 unique DV Genes for Layer2/3 ======== \n",
      "======== 181 unique DV Genes for Pir ======== \n",
      "======== 256 unique DV Genes for cc ======== \n",
      "======== 168 common DVGenes ========\n",
      "fp\n",
      "======== 656 unique DV Genes for HY ======== \n",
      "======== 442 unique DV Genes for Layer2/3 ======== \n",
      "======== 318 unique DV Genes for cc ======== \n",
      "======== 319 unique DV Genes for Amy ======== \n",
      "======== 216 unique DV Genes for Layer4 ======== \n",
      "======== 312 unique DV Genes for Layer5/6 ======== \n",
      "======== 313 unique DV Genes for TH ======== \n",
      "======== 290 unique DV Genes for HP ======== \n",
      "======== 552 unique DV Genes for CPu ======== \n",
      "======== 162 unique DV Genes for RSP ======== \n",
      "======== 128 common DVGenes ========\n",
      "mp\n",
      "======== 625 unique DV Genes for TH ======== \n",
      "======== 281 unique DV Genes for cc ======== \n",
      "======== 196 unique DV Genes for HP ======== \n",
      "======== 280 unique DV Genes for Layer5/6 ======== \n",
      "======== 294 unique DV Genes for Amy ======== \n",
      "======== 545 unique DV Genes for CPu ======== \n",
      "======== 481 unique DV Genes for HY ======== \n",
      "======== 215 unique DV Genes for Layer4 ======== \n",
      "======== 349 unique DV Genes for Layer2/3 ======== \n",
      "======== 4 unique DV Genes for RSP ======== \n",
      "======== 36 common DVGenes ========\n"
     ]
    }
   ],
   "source": [
    "for val in [\"fa\", \"ma\", \"fp\", \"mp\"]:\n",
    "    dvg_db, unique_dvg, common_dvg = find_unique_common_dvgenes(\"./output/final/v0/\" + str(val) + \"_dva_ext_heatmap_data.csv\", 10)\n",
    "    print(val)\n",
    "    group_dvg_genes_per_region(dvg_db, unique_dvg, common_dvg)\n"
   ]
  },
  {
   "cell_type": "code",
   "execution_count": null,
   "id": "f6f61674-f5e9-4cbf-95d1-121ad5ebfc40",
   "metadata": {},
   "outputs": [],
   "source": []
  },
  {
   "cell_type": "code",
   "execution_count": null,
   "id": "0a8f69f3-de6b-48e4-8cc0-39755fb778c0",
   "metadata": {},
   "outputs": [],
   "source": []
  },
  {
   "cell_type": "code",
   "execution_count": null,
   "id": "4bb1c4a8-e9f2-4585-865f-cbe1ee27775e",
   "metadata": {},
   "outputs": [],
   "source": []
  },
  {
   "cell_type": "code",
   "execution_count": 4,
   "id": "fc6a6898-f454-4038-90eb-e88852aa8509",
   "metadata": {},
   "outputs": [],
   "source": [
    "### MA\n"
   ]
  },
  {
   "cell_type": "code",
   "execution_count": 12,
   "id": "1e128317-3253-4665-93de-577edf320d1a",
   "metadata": {},
   "outputs": [
    {
     "name": "stdout",
     "output_type": "stream",
     "text": [
      "======== 478 unique DV Genes for Septal ======== \n",
      "======== 253 unique DV Genes for ACC ======== \n",
      "======== 335 unique DV Genes for NAc ======== \n",
      "======== 369 unique DV Genes for Layer5/6 ======== \n",
      "======== 200 unique DV Genes for AIC ======== \n",
      "======== 252 unique DV Genes for Layer4 ======== \n",
      "======== 582 unique DV Genes for CPu ======== \n",
      "======== 297 unique DV Genes for Layer2/3 ======== \n",
      "======== 181 unique DV Genes for Pir ======== \n",
      "======== 256 unique DV Genes for cc ======== \n",
      "======== 168 common DVGenes ========\n"
     ]
    }
   ],
   "source": [
    "dvg_db, unique_dvg, common_dvg = find_unique_common_dvgenes(\"./output/final/v0/ma_dva_ext_heatmap_data.csv\")\n",
    "group_dvg_genes_per_region(dvg_db, unique_dvg, common_dvg)\n"
   ]
  },
  {
   "cell_type": "code",
   "execution_count": 7,
   "id": "0a652fb7-2f3b-47e0-a061-147abeb6004c",
   "metadata": {},
   "outputs": [
    {
     "name": "stdout",
     "output_type": "stream",
     "text": [
      "======== 656 unique DV Genes for HY ======== \n",
      "======== 442 unique DV Genes for Layer2/3 ======== \n",
      "======== 318 unique DV Genes for cc ======== \n",
      "======== 319 unique DV Genes for Amy ======== \n",
      "======== 216 unique DV Genes for Layer4 ======== \n",
      "======== 312 unique DV Genes for Layer5/6 ======== \n",
      "======== 313 unique DV Genes for TH ======== \n",
      "======== 290 unique DV Genes for HP ======== \n",
      "======== 552 unique DV Genes for CPu ======== \n",
      "======== 162 unique DV Genes for RSP ======== \n",
      "======== 128 common DVGenes ========\n"
     ]
    }
   ],
   "source": [
    "dvg_db, unique_dvg, common_dvg = find_unique_common_dvgenes(\"./output/final/v0/fp_dva_ext_heatmap_data.csv\")\n",
    "group_dvg_genes_per_region(dvg_db, unique_dvg, common_dvg)\n"
   ]
  },
  {
   "cell_type": "code",
   "execution_count": 8,
   "id": "0cd1306f-4b85-4351-babc-4f892d344091",
   "metadata": {},
   "outputs": [
    {
     "name": "stdout",
     "output_type": "stream",
     "text": [
      "======== 625 unique DV Genes for TH ======== \n",
      "======== 281 unique DV Genes for cc ======== \n",
      "======== 196 unique DV Genes for HP ======== \n",
      "======== 280 unique DV Genes for Layer5/6 ======== \n",
      "======== 294 unique DV Genes for Amy ======== \n",
      "======== 545 unique DV Genes for CPu ======== \n",
      "======== 481 unique DV Genes for HY ======== \n",
      "======== 215 unique DV Genes for Layer4 ======== \n",
      "======== 349 unique DV Genes for Layer2/3 ======== \n",
      "======== 4 unique DV Genes for RSP ======== \n",
      "======== 36 common DVGenes ========\n"
     ]
    }
   ],
   "source": [
    "dvg_db, unique_dvg, common_dvg = find_unique_common_dvgenes(\"./output/final/v0/mp_dva_ext_heatmap_data.csv\")\n",
    "group_dvg_genes_per_region(dvg_db, unique_dvg, common_dvg)\n"
   ]
  },
  {
   "cell_type": "code",
   "execution_count": null,
   "id": "03f94521-fb53-4399-b6f4-0a13d11a844e",
   "metadata": {},
   "outputs": [],
   "source": []
  },
  {
   "cell_type": "code",
   "execution_count": null,
   "id": "c199a722-bae2-4798-acf8-9900b9f6c32a",
   "metadata": {},
   "outputs": [],
   "source": []
  },
  {
   "cell_type": "code",
   "execution_count": null,
   "id": "190f4e73-7533-41ed-9a9b-2d17deba9138",
   "metadata": {},
   "outputs": [],
   "source": []
  },
  {
   "cell_type": "code",
   "execution_count": null,
   "id": "784cae8e-05d3-49b5-a8d9-5006195faef8",
   "metadata": {},
   "outputs": [],
   "source": []
  },
  {
   "cell_type": "code",
   "execution_count": null,
   "id": "ddb0e1d8-2999-42ae-becf-1ee16c0545d9",
   "metadata": {},
   "outputs": [],
   "source": []
  },
  {
   "cell_type": "code",
   "execution_count": null,
   "id": "270dc959-a104-4d13-b47a-04a3dbaadc75",
   "metadata": {},
   "outputs": [],
   "source": [
    "#Plim = 10e-3"
   ]
  },
  {
   "cell_type": "code",
   "execution_count": null,
   "id": "67e35841-a93d-46ad-b412-2531dcd5f267",
   "metadata": {},
   "outputs": [],
   "source": []
  },
  {
   "cell_type": "code",
   "execution_count": 13,
   "id": "829cac73-697c-4395-a217-14952f3455e8",
   "metadata": {},
   "outputs": [
    {
     "name": "stdout",
     "output_type": "stream",
     "text": [
      "======== 447 unique DV Genes for Septal ======== \n",
      "======== 216 unique DV Genes for ACC ======== \n",
      "======== 289 unique DV Genes for NAc ======== \n",
      "======== 373 unique DV Genes for Layer5/6 ======== \n",
      "======== 222 unique DV Genes for AIC ======== \n",
      "======== 408 unique DV Genes for Layer2/3 ======== \n",
      "======== 596 unique DV Genes for CPu ======== \n",
      "======== 93 unique DV Genes for Pir ======== \n",
      "======== 353 unique DV Genes for cc ======== \n",
      "======== 216 unique DV Genes for Layer4 ======== \n",
      "======== 130 common DVGenes ========\n"
     ]
    }
   ],
   "source": [
    "dvg_db, unique_dvg, common_dvg = find_unique_common_dvgenes(\"./output/final/v0/fa_dva_ext_heatmap_data.csv\")\n",
    "group_dvg_genes_per_region(dvg_db, unique_dvg, common_dvg)"
   ]
  },
  {
   "cell_type": "code",
   "execution_count": null,
   "id": "9bdd56bf-6e3b-4523-bfae-297fcdbb2012",
   "metadata": {},
   "outputs": [],
   "source": []
  },
  {
   "cell_type": "code",
   "execution_count": null,
   "id": "b602d6ce-8849-4358-a08c-e08d4c34ae9c",
   "metadata": {},
   "outputs": [],
   "source": []
  }
 ],
 "metadata": {
  "kernelspec": {
   "display_name": "Python 3 (ipykernel)",
   "language": "python",
   "name": "python3"
  },
  "language_info": {
   "codemirror_mode": {
    "name": "ipython",
    "version": 3
   },
   "file_extension": ".py",
   "mimetype": "text/x-python",
   "name": "python",
   "nbconvert_exporter": "python",
   "pygments_lexer": "ipython3",
   "version": "3.12.1"
  }
 },
 "nbformat": 4,
 "nbformat_minor": 5
}
